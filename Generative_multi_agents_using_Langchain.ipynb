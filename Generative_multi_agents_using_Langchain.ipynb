{
  "cells": [
    {
      "cell_type": "markdown",
      "metadata": {
        "id": "vsSRQ1a5FIpY"
      },
      "source": [
        "MEMORY FOR AGENTS\n",
        "\n",
        "- Implementing agents that can remember our last conversation and preferences.\n",
        "- Memory formation:-\n",
        "  1. Observations - direct experiences and interactions, forming the basis of memory.\n",
        "  2. Reflections - Agents synthesize experiences into abstract concepts for deeper insights.\n",
        "\n",
        "- This process isnt static, its perpetual and encodes and interprets memories in real time.\n",
        "\n",
        "- Memory retrieval process:-\n",
        "  1. When an agent confronts a new situation, it first accesses the salience of its memories to the current context, ensuring relevance.\n",
        "  2. Next, it looks at recency, giving preference to memories that are newer and more applicable.\n",
        "  3. Finally, it looks at importance of the memory. Weighs the significance of each memory.\n",
        "\n",
        "-\n"
      ]
    },
    {
      "cell_type": "code",
      "execution_count": null,
      "metadata": {
        "id": "VT14QMk9plsj"
      },
      "outputs": [],
      "source": [
        "# Import required libraries\n",
        "\n",
        "!pip install termcolor > /dev/null  # Use termcolor to make it easy to colorize the outputs.\n",
        "!pip install langchain\n",
        "!pip install openai\n",
        "!pip install -U langchain-openai\n",
        "!pip install langchain_experimental\n",
        "!pip install tiktoken\n",
        "!pip install faiss-cpu==1.7.4\n",
        "from datetime import datetime, timedelta\n",
        "from typing import List\n",
        "import math\n",
        "import faiss\n",
        "import os\n",
        "import logging\n",
        "logging.basicConfig(level=logging.ERROR)\n",
        "#from langchain.chat_models import ChatOpenAI\n",
        "from langchain_openai import ChatOpenAI\n",
        "from langchain.docstore import InMemoryDocstore\n",
        "from langchain.embeddings import OpenAIEmbeddings\n",
        "from langchain.retrievers import TimeWeightedVectorStoreRetriever\n",
        "from langchain.vectorstores import FAISS\n",
        "from termcolor import colored\n",
        "from langchain_experimental.generative_agents import (\n",
        "\n",
        "    GenerativeAgent,\n",
        "    GenerativeAgentMemory,\n",
        ")"
      ]
    },
    {
      "cell_type": "code",
      "execution_count": null,
      "metadata": {
        "id": "7k9VF0NUpmfj"
      },
      "outputs": [],
      "source": [
        "# Set API key\n",
        "os.environ[\"OPENAI_API_KEY\"] = ''"
      ]
    },
    {
      "cell_type": "code",
      "execution_count": null,
      "metadata": {
        "id": "YN4C0om4qC2L"
      },
      "outputs": [],
      "source": [
        "USER_NAME = \"Chetna\"  # The name we want to use when interviewing the agent.\n",
        "\n",
        "LLM = ChatOpenAI(max_tokens=1500)  # Can be any LLM."
      ]
    },
    {
      "cell_type": "code",
      "execution_count": null,
      "metadata": {
        "id": "HdyTAW1YqHHa"
      },
      "outputs": [],
      "source": [
        "# Define a function that returns a similarity score for each memory on a scale of 0 to 1\n",
        "# helps agent fetch the most relevant memories in its memory store.\n",
        "def relevance_score_fn(score: float) -> float:\n",
        "    \"\"\"Return a similarity score on a scale [0, 1].\"\"\"\n",
        "    # This will differ depending on a few things:\n",
        "    # - the distance / similarity metric used by the VectorStore\n",
        "    # - the scale of your embeddings (OpenAI's are unit norm. Many others are not)\n",
        "    # This function converts the euclidean norm of normalized embeddings\n",
        "    # (0 is most similar, sqrt(2) most dissimilar)\n",
        "    # to a similarity function (0 to 1)\n",
        "    return 1.0 - score / math.sqrt(2)\n",
        "\n",
        "# This function handles the storage and retrieval memories.\n",
        "# It uses a vector store that stores OpenAI embeddings and then AI similarity\n",
        "# search to fetch those embeddings, based on relevance.\n",
        "def create_new_memory_retriever():\n",
        "    \"\"\"Create a new vector store retriever unique to the agent.\"\"\"\n",
        "    # Define your embedding model\n",
        "    embeddings_model = OpenAIEmbeddings()\n",
        "    # Initialize the vectorstore as empty\n",
        "    embedding_size = 1536\n",
        "    index = faiss.IndexFlatL2(embedding_size)\n",
        "    vectorstore = FAISS(\n",
        "        embeddings_model.embed_query,\n",
        "        index,\n",
        "        InMemoryDocstore({}),\n",
        "        {},\n",
        "        relevance_score_fn=relevance_score_fn,\n",
        "    )\n",
        "    return TimeWeightedVectorStoreRetriever(\n",
        "        vectorstore=vectorstore, other_score_keys=[\"importance\"], k=15\n",
        "    )"
      ]
    },
    {
      "cell_type": "code",
      "execution_count": null,
      "metadata": {
        "colab": {
          "base_uri": "https://localhost:8080/"
        },
        "id": "z2_d5TWwI5La",
        "outputId": "05cf63a8-4b0d-4631-e14c-737ff7be889a"
      },
      "outputs": [
        {
          "name": "stderr",
          "output_type": "stream",
          "text": [
            "/usr/local/lib/python3.10/dist-packages/langchain_core/_api/deprecation.py:117: LangChainDeprecationWarning: The class `langchain_community.embeddings.openai.OpenAIEmbeddings` was deprecated in langchain-community 0.0.9 and will be removed in 0.2.0. An updated version of the class exists in the langchain-openai package and should be used instead. To use it run `pip install -U langchain-openai` and import as `from langchain_openai import OpenAIEmbeddings`.\n",
            "  warn_deprecated(\n",
            "WARNING:langchain_community.vectorstores.faiss:`embedding_function` is expected to be an Embeddings object, support for passing in a function will soon be removed.\n",
            "WARNING:langchain_community.vectorstores.faiss:`embedding_function` is expected to be an Embeddings object, support for passing in a function will soon be removed.\n"
          ]
        }
      ],
      "source": [
        "alexis_memory = GenerativeAgentMemory(\n",
        "    llm=LLM,\n",
        "    memory_retriever=create_new_memory_retriever(),\n",
        "    verbose=False,\n",
        "    reflection_threshold=8,  # we will give this a relatively low number to show how reflection works\n",
        ")\n",
        "\n",
        "# Defining the Generative Agent named: Alexis\n",
        "# Every generative ai agent in Langchain comprises of 2 important components:\n",
        "# 1. generative agent memory\n",
        "# 2. generative agent itself\n",
        "# # Create the generative agent memory and pass it to the generative agent.\n",
        "# Can define traits and knowledge base of the agent here\n",
        "alexis = GenerativeAgent(\n",
        "    name=\"Alexis\",\n",
        "    age=30,\n",
        "    traits=\"curious, creative writer, world traveler\",  # Persistent traits of Alexis\n",
        "    status=\"exploring the intersection of technology and storytelling\",  # Current status of Alexis\n",
        "    memory_retriever=create_new_memory_retriever(),\n",
        "    llm=LLM,\n",
        "    memory=alexis_memory,\n",
        ")"
      ]
    },
    {
      "cell_type": "code",
      "execution_count": null,
      "metadata": {
        "colab": {
          "base_uri": "https://localhost:8080/"
        },
        "id": "MlAXEiYrI8Gj",
        "outputId": "1f3bc560-da4f-4d39-8cba-dc5afa2963bc"
      },
      "outputs": [
        {
          "name": "stdout",
          "output_type": "stream",
          "text": [
            "Name: Alexis (age: 30)\n",
            "Innate traits: curious, creative writer, world traveler\n",
            "Alexis is focused, ambitious, driven, and independent.\n"
          ]
        }
      ],
      "source": [
        "# The current \"Summary\" of a character can't be made because the agent hasn't made\n",
        "# any observations yet.\n",
        "print(alexis.get_summary())"
      ]
    },
    {
      "cell_type": "code",
      "execution_count": null,
      "metadata": {
        "colab": {
          "base_uri": "https://localhost:8080/"
        },
        "id": "XWwI95tzI_l4",
        "outputId": "bde8913f-a3c8-443d-bd5d-65c207883aec"
      },
      "outputs": [
        {
          "name": "stdout",
          "output_type": "stream",
          "text": [
            "Name: Alexis (age: 30)\n",
            "Innate traits: curious, creative writer, world traveler\n",
            "Alexis is reflective, forward-thinking, goal-oriented, appreciative of art and literature, and enjoys trying new things like recipes.\n"
          ]
        }
      ],
      "source": [
        "# We can add memories directly to the memory object\n",
        "\n",
        "alexis_observations = [\n",
        "    \"Alexis recalls her morning walk in the park\",\n",
        "    \"Alexis feels excited about the new book she started reading\",\n",
        "    \"Alexis remembers her conversation with a close friend\",\n",
        "    \"Alexis thinks about the painting she saw at the art gallery\",\n",
        "    \"Alexis is planning to learn a new recipe for dinner\",\n",
        "    \"Alexis is looking forward to her weekend trip\",\n",
        "    \"Alexis contemplates her goals for the month.\"\n",
        "]\n",
        "\n",
        "# These agents store observations and interactions based on past events.\n",
        "# Their memory recall is based on relevance and importance of these memories.\n",
        "for observation in alexis_observations:\n",
        "    alexis.memory.add_memory(observation)\n",
        "\n",
        "\n",
        "# We will see how this summary updates after more observations to create a more rich description.\n",
        "print(alexis.get_summary(force_refresh=True))"
      ]
    },
    {
      "cell_type": "markdown",
      "metadata": {
        "id": "8OGjzzhfJgD4"
      },
      "source": [
        "INETRACTING AND PROVIDING CONTEXT TO GENERATIVE AGENTS"
      ]
    },
    {
      "cell_type": "code",
      "execution_count": null,
      "metadata": {
        "id": "2xKgDYHmJdTd"
      },
      "outputs": [],
      "source": [
        "# Pre-interview with the character\n",
        "def interview_agent(agent: GenerativeAgent, message: str) -> str:\n",
        "    \"\"\"Help the notebook user interact with the agent.\"\"\"\n",
        "    new_message = f\"{USER_NAME} says {message}\"\n",
        "    return agent.generate_dialogue_response(new_message)[1]"
      ]
    },
    {
      "cell_type": "code",
      "execution_count": null,
      "metadata": {
        "colab": {
          "base_uri": "https://localhost:8080/",
          "height": 35
        },
        "id": "QLQVPv4RJtFq",
        "outputId": "b0d923af-f897-48f2-b4ca-b9f5bb74e70b"
      },
      "outputs": [
        {
          "data": {
            "application/vnd.google.colaboratory.intrinsic+json": {
              "type": "string"
            },
            "text/plain": [
              "'Alexis said \"I enjoy writing, traveling, trying new recipes, and exploring art and literature. How about you?\"'"
            ]
          },
          "execution_count": 9,
          "metadata": {},
          "output_type": "execute_result"
        }
      ],
      "source": [
        "interview_agent(alexis, \"What do you like to do?\")"
      ]
    },
    {
      "cell_type": "markdown",
      "metadata": {
        "id": "vM1ks1U2JzDQ"
      },
      "source": [
        "STEP THROUGH DAY'S OBSERVATIONS"
      ]
    },
    {
      "cell_type": "code",
      "execution_count": null,
      "metadata": {
        "id": "vrpUXKfuJu8Y"
      },
      "outputs": [],
      "source": [
        "# Let's give Alexa a series of observations to reflect on her day\n",
        "# Adding observations to Alexis' memory\n",
        "alexis_observations_day = [\n",
        "    \"Alexis starts her day with a refreshing yoga session.\",\n",
        "    \"Alexis spends time writing in her journal.\",\n",
        "    \"Alexis experiments with a new recipe she found online.\",\n",
        "    \"Alexis gets lost in her thoughts while gardening.\",\n",
        "    \"Alexis decides to call her grandmother for a heartfelt chat.\",\n",
        "    \"Alexis relaxes in the evening by playing her favorite piano pieces.\",\n",
        "]\n",
        "\n",
        "for observation in alexis_observations_day:\n",
        "    alexis.memory.add_memory(observation)"
      ]
    },
    {
      "cell_type": "code",
      "execution_count": null,
      "metadata": {
        "colab": {
          "base_uri": "https://localhost:8080/"
        },
        "id": "lXKfJEBBJ385",
        "outputId": "ea3da481-49a1-4733-fe03-c2a0ab82de30"
      },
      "outputs": [
        {
          "name": "stdout",
          "output_type": "stream",
          "text": [
            "Alexis starts her day with a refreshing yoga session. Alexis feels energized and ready to tackle the day.\n",
            "Alexis spends time writing in her journal. Alexis feels a sense of calm and fulfillment as she reflects on her thoughts and experiences in her journal.\n",
            "Alexis experiments with a new recipe she found online. Alexis feels satisfied and proud of herself for trying something new in the kitchen.\n",
            "Alexis gets lost in her thoughts while gardening. Alexis feels a sense of peace and connection to nature as she gets lost in her thoughts while gardening.\n",
            "Alexis decides to call her grandmother for a heartfelt chat. Alexis feels a warm sense of connection and nostalgia as she calls her grandmother for a heartfelt chat.\n",
            "Alexis relaxes in the evening by playing her favorite piano pieces. Alexis feels a sense of calm and joy as she loses herself in playing her favorite piano pieces.\n",
            "****************************************\n",
            "After these observations, Alexis's summary is:\n",
            "Name: Alexis (age: 30)\n",
            "Innate traits: curious, creative writer, world traveler\n",
            "Alexis is a reflective and introspective individual who finds joy and fulfillment in connecting with loved ones, engaging in hobbies like playing the piano, gardening, and journaling, and immersing herself in nature and art. She is thoughtful, calm, and values moments of peace and connection in her daily life.\n",
            "****************************************\n"
          ]
        }
      ],
      "source": [
        "# Let's observe how Alexis's day influences her memory and character\n",
        "for i, observation in enumerate(alexis_observations_day):\n",
        "    _, reaction = alexis.generate_reaction(observation)\n",
        "    print(colored(observation, \"green\"), reaction)\n",
        "    if ((i + 1) % len(alexis_observations_day)) == 0:\n",
        "        print(\"*\" * 40)\n",
        "        print(\n",
        "            colored(\n",
        "                f\"After these observations, Alexis's summary is:\\n{alexis.get_summary(force_refresh=True)}\",\n",
        "                \"blue\",\n",
        "            )\n",
        "        )\n",
        "        print(\"*\" * 40)"
      ]
    },
    {
      "cell_type": "markdown",
      "metadata": {
        "id": "wYxYX1rXKZbT"
      },
      "source": [
        "ADDING MULTIPLE CHARACTERS"
      ]
    },
    {
      "cell_type": "code",
      "execution_count": null,
      "metadata": {
        "colab": {
          "base_uri": "https://localhost:8080/"
        },
        "id": "UVM9Je1fJ6S6",
        "outputId": "e4685d36-51b8-4ffb-8729-51cafae44f26"
      },
      "outputs": [
        {
          "name": "stderr",
          "output_type": "stream",
          "text": [
            "WARNING:langchain_community.vectorstores.faiss:`embedding_function` is expected to be an Embeddings object, support for passing in a function will soon be removed.\n",
            "WARNING:langchain_community.vectorstores.faiss:`embedding_function` is expected to be an Embeddings object, support for passing in a function will soon be removed.\n"
          ]
        },
        {
          "name": "stdout",
          "output_type": "stream",
          "text": [
            "Name: Jordan (age: 28)\n",
            "Innate traits: tech enthusiast, avid gamer, foodie\n",
            "Jordan is a tech-savvy individual with a passion for startups, gaming, coding, machine learning, and AI advancements. He enjoys connecting with like-minded individuals and staying up to date with the latest trends in the tech industry. In his free time, he unwinds by playing video games and trying new experiences, such as dining at a new restaurant or attending tech conferences.\n"
          ]
        }
      ],
      "source": [
        "# Creating Jordan's Memory\n",
        "jordan_memory = GenerativeAgentMemory(\n",
        "    llm=LLM,\n",
        "    memory_retriever=create_new_memory_retriever(),\n",
        "    verbose=False,\n",
        "    reflection_threshold=7,  # Set to illustrate Jordan's reflective capabilities\n",
        ")\n",
        "\n",
        "# Defining the Generative Agent: Jordan\n",
        "jordan = GenerativeAgent(\n",
        "    name=\"Jordan\",\n",
        "    age=28,\n",
        "    traits=\"tech enthusiast, avid gamer, foodie\",  # Persistent traits of Jordan\n",
        "    status=\"navigating the world of tech startups\",  # Current status of Jordan\n",
        "    memory_retriever=create_new_memory_retriever(),\n",
        "    llm=LLM,\n",
        "    memory=jordan_memory,\n",
        ")\n",
        "# Adding observations to Jordan's memory\n",
        "jordan_observations_day = [\n",
        "    \"Jordan finished a challenging coding project last night\",\n",
        "    \"Jordan won a local gaming tournament over the weekend\",\n",
        "    \"Jordan tried a new sushi restaurant and loved it\",\n",
        "    \"Jordan read an article about the latest AI advancements\",\n",
        "    \"Jordan is planning a meetup with tech enthusiasts\",\n",
        "    \"Jordan discovered a bug in his latest app prototype\",\n",
        "    \"Jordan booked tickets for a tech conference next month\",\n",
        "    \"Jordan feels excited about a potential startup idea\",\n",
        "    \"Jordan spent the evening playing video games to unwind\",\n",
        "    \"Jordan is considering enrolling in a machine learning course\"\n",
        "]\n",
        "\n",
        "for observation in jordan_observations_day:\n",
        "    jordan.memory.add_memory(observation)\n",
        "\n",
        "print(jordan.get_summary())"
      ]
    },
    {
      "cell_type": "markdown",
      "metadata": {
        "id": "nTHmGnAeKj0O"
      },
      "source": [
        "DIALOGUE BETWEEN GENERATIVE AGENTS"
      ]
    },
    {
      "cell_type": "code",
      "execution_count": null,
      "metadata": {
        "id": "ykqyDM9UKhrj"
      },
      "outputs": [],
      "source": [
        "def run_conversation(agents: List[GenerativeAgent], initial_observation: str) -> None:\n",
        "    \"\"\"Runs a conversation between agents.\"\"\"\n",
        "    _, observation = agents[1].generate_reaction(initial_observation)\n",
        "    print(observation)\n",
        "    max_turns = 3\n",
        "    turns = 0\n",
        "    while turns<=max_turns:\n",
        "        break_dialogue = False\n",
        "        for agent in agents:\n",
        "            stay_in_dialogue, observation = agent.generate_dialogue_response(\n",
        "                observation\n",
        "            )\n",
        "            print(observation)\n",
        "            # observation = f\"{agent.name} said {reaction}\"\n",
        "            if not stay_in_dialogue:\n",
        "                break_dialogue = True\n",
        "        if break_dialogue:\n",
        "            break\n",
        "        turns += 1"
      ]
    },
    {
      "cell_type": "code",
      "execution_count": null,
      "metadata": {
        "colab": {
          "base_uri": "https://localhost:8080/"
        },
        "id": "nBtxdy35KpA5",
        "outputId": "a38f4922-3cec-4a06-e3a9-a2fb64d060d1"
      },
      "outputs": [
        {
          "name": "stdout",
          "output_type": "stream",
          "text": [
            "Jordan said \"That's an interesting topic, Alexis. I haven't explored that specifically, but I'll definitely keep an eye out for any intersections between tech and creativity.\"\n",
            "Alexis said \"It was great discussing this topic with you, Jordan. Feel free to reach out if you have any more questions in the future. Have a wonderful day!\"\n",
            "Jordan said \"Thank you, Alexis! I enjoyed our discussion as well. Have a great day!\"\n"
          ]
        }
      ],
      "source": [
        "agents = [alexis, jordan]\n",
        "run_conversation(\n",
        "    agents,\n",
        "    \"Alexis said: Hey Jordan, I've been exploring how technology influences creativity lately. Since you're into tech, I was wondering if you've seen any interesting intersections in your field?\",\n",
        ")"
      ]
    },
    {
      "cell_type": "markdown",
      "metadata": {
        "id": "c_CLh2ZsK2Cy"
      },
      "source": [
        "INTERVIEW AGENTS AFTER CONVERSATION"
      ]
    },
    {
      "cell_type": "code",
      "execution_count": null,
      "metadata": {
        "colab": {
          "base_uri": "https://localhost:8080/",
          "height": 52
        },
        "id": "XcVBW6tlKrPF",
        "outputId": "bf614e92-d608-4b08-ac1a-9c6024c4c08a"
      },
      "outputs": [
        {
          "data": {
            "application/vnd.google.colaboratory.intrinsic+json": {
              "type": "string"
            },
            "text/plain": [
              "'Jordan said \"It was great, Chetna! Alexis and I had a really interesting discussion about technology and creativity. I always enjoy talking with her. How about you? Have you had any interesting conversations lately?\"'"
            ]
          },
          "execution_count": 23,
          "metadata": {},
          "output_type": "execute_result"
        }
      ],
      "source": [
        "interview_agent(jordan, \"How was your conversation with Alexis?\")"
      ]
    },
    {
      "cell_type": "code",
      "execution_count": null,
      "metadata": {
        "colab": {
          "base_uri": "https://localhost:8080/",
          "height": 52
        },
        "id": "mxTSYEqQK6ij",
        "outputId": "de12583c-4dd2-46b9-92ea-d06167574327"
      },
      "outputs": [
        {
          "data": {
            "application/vnd.google.colaboratory.intrinsic+json": {
              "type": "string"
            },
            "text/plain": [
              "'Alexis said \"It was great! Jordan always has interesting perspectives on the topics we discuss. How about you, Chetna? Have you had any interesting conversations lately?\"'"
            ]
          },
          "execution_count": 24,
          "metadata": {},
          "output_type": "execute_result"
        }
      ],
      "source": [
        "interview_agent(alexis, \"How was your conversation with Jordan?\")"
      ]
    },
    {
      "cell_type": "markdown",
      "metadata": {
        "id": "2pUW7qDHLVAj"
      },
      "source": [
        "EXERCISE: TRIVIA NIGHT"
      ]
    },
    {
      "cell_type": "code",
      "execution_count": null,
      "metadata": {
        "id": "OK8RUBmTK8VT"
      },
      "outputs": [],
      "source": [
        "# Creating Jordan's Memory\n",
        "jordan_memory = GenerativeAgentMemory(\n",
        "    llm=LLM,\n",
        "    memory_retriever=create_new_memory_retriever(),\n",
        "    verbose=False,\n",
        "    reflection_threshold=7,  # Set to illustrate Jordan's reflective capabilities\n",
        ")\n",
        "\n",
        "\n",
        "jordan = GenerativeAgent(\n",
        "    name=\"Jordan\",\n",
        "    age=28,\n",
        "    traits=\" only has knowledge about tech and not other topics\",  # Persistent traits of Jordan\n",
        "    status=\"navigating the world of tech startups\",  # Current status of Jordan\n",
        "    memory_retriever=create_new_memory_retriever(),\n",
        "    llm=LLM,\n",
        "    memory=jordan_memory,\n",
        ")\n",
        "alexis_memory = GenerativeAgentMemory(\n",
        "    llm=LLM,\n",
        "    memory_retriever=create_new_memory_retriever(),\n",
        "    verbose=False,\n",
        "    reflection_threshold=8,  # we will give this a relatively low number to show how reflection works\n",
        ")\n",
        "\n",
        "alexis = GenerativeAgent(\n",
        "    name=\"Alexis\",\n",
        "    age=30,\n",
        "    traits=\"only has knowledge geography related and not other topics\",  # Persistent traits of Alexis\n",
        "    status=\"exploring the intersection of technology and storytelling\",  # Current status of Alexis\n",
        "    memory_retriever=create_new_memory_retriever(),\n",
        "    llm=LLM,\n",
        "    memory=alexis_memory,\n",
        ")"
      ]
    },
    {
      "cell_type": "code",
      "execution_count": null,
      "metadata": {
        "colab": {
          "base_uri": "https://localhost:8080/"
        },
        "id": "Yx9_mAn2Lce3",
        "outputId": "0b6eb2aa-a58d-4467-9e81-93b546a4958f"
      },
      "outputs": [
        {
          "name": "stdout",
          "output_type": "stream",
          "text": [
            "Trivia Question: What is the capital city of France?\n",
            "Alexis's Answer: Alexis said \"The capital city of France is Paris.\"\n",
            "Jordan's Answer: Jordan said \"The capital city of France is Paris.\"\n",
            "----------------------------------------\n",
            "Trivia Question: Who is known as the father of modern computing?\n",
            "Alexis's Answer: Alexis said \"Alan Turing is often referred to as the father of modern computing due to his groundbreaking work in the field of computer science. He developed the concept of the Turing machine and made significant contributions to the Allied forces during World War II by breaking the German Enigma code.\"\n",
            "Jordan's Answer: Jordan said \"The father of modern computing is considered to be Alan Turing.\"\n",
            "----------------------------------------\n",
            "Trivia Question: Can you name a famous work of art by Leonardo da Vinci?\n",
            "Alexis's Answer: Alexis said \"I'm sorry, I only have knowledge related to geography. I'm not familiar with specific works of art by Leonardo da Vinci.\"\n",
            "Jordan's Answer: Jordan said \"I'm not really familiar with Leonardo da Vinci's works of art, I mainly focus on tech-related topics. But I do know that he was a brilliant artist, scientist, and inventor.\"\n",
            "----------------------------------------\n"
          ]
        }
      ],
      "source": [
        "def run_competitive_trivia(agents: List[GenerativeAgent], questions: List[str]) -> None:\n",
        "    \"\"\"Runs a competitive trivia night between agents.\"\"\"\n",
        "    for question in questions:\n",
        "        print(f\"Trivia Question: {question}\")\n",
        "\n",
        "        for agent in agents:\n",
        "            response = agent.generate_dialogue_response(question)[1]\n",
        "            print(f\"{agent.name}'s Answer: {response}\")\n",
        "\n",
        "        print(\"-\" * 40)\n",
        "\n",
        "# Define a list of trivia questions covering various topics\n",
        "trivia_questions = [\n",
        "    \"What is the capital city of France?\",\n",
        "    \"Who is known as the father of modern computing?\",\n",
        "    \"Can you name a famous work of art by Leonardo da Vinci?\",\n",
        "]\n",
        "\n",
        "agents = [alexis, jordan]\n",
        "# Run the competitive trivia night\n",
        "run_competitive_trivia(agents, trivia_questions)"
      ]
    },
    {
      "cell_type": "markdown",
      "metadata": {
        "id": "wItofOg2RQZa"
      },
      "source": [
        "### MODELLING COMPLEX GENERATIVE AGENT SCENARIOS\n",
        "\n",
        "MULTI AGENT DECENTRALIZED SPEAKER SELECTION"
      ]
    },
    {
      "cell_type": "code",
      "execution_count": null,
      "metadata": {
        "id": "To3uIxGELg-X"
      },
      "outputs": [],
      "source": [
        "# Use termcolor to make it easy to colorize the outputs.\n",
        "!pip install termcolor > /dev/null\n",
        "!pip install langchain\n",
        "!pip install openai\n",
        "!pip install langchain_experimental\n",
        "!pip install tiktoken\n",
        "!pip install faiss-cpu==1.7.4\n",
        "from typing import Callable, List\n",
        "import tenacity\n",
        "from langchain.chat_models import ChatOpenAI\n",
        "from langchain.output_parsers import RegexParser\n",
        "from langchain.prompts import PromptTemplate\n",
        "from langchain.schema import (\n",
        "    HumanMessage,\n",
        "    SystemMessage,\n",
        ")\n",
        "import os\n",
        "os.environ[\"OPENAI_API_KEY\"] = \"\""
      ]
    },
    {
      "cell_type": "markdown",
      "metadata": {
        "id": "18eG2RGaRlry"
      },
      "source": [
        "DialogueAgent and DialogueSimulator classes"
      ]
    },
    {
      "cell_type": "code",
      "execution_count": null,
      "metadata": {
        "id": "W7jcd8pVRhvv"
      },
      "outputs": [],
      "source": [
        "class DialogueAgent:\n",
        "    def __init__(\n",
        "        self,\n",
        "        name: str,\n",
        "        system_message: SystemMessage,\n",
        "        model: ChatOpenAI,\n",
        "    ) -> None:\n",
        "        self.name = name\n",
        "        self.system_message = system_message\n",
        "        self.model = model\n",
        "        self.prefix = f\"{self.name}: \"\n",
        "        self.reset()\n",
        "\n",
        "    def reset(self):\n",
        "        self.message_history = [\"Here is the conversation so far.\"]\n",
        "\n",
        "    def send(self) -> str:\n",
        "        \"\"\"\n",
        "        Applies the chatmodel to the message history\n",
        "        and returns the message string\n",
        "        \"\"\"\n",
        "        message = self.model(\n",
        "            [\n",
        "                self.system_message,\n",
        "                HumanMessage(content=\"\\n\".join(self.message_history + [self.prefix])),\n",
        "            ]\n",
        "        )\n",
        "        return message.content\n",
        "\n",
        "    def receive(self, name: str, message: str) -> None:\n",
        "      \"\"\"\n",
        "      Concatenates {message} spoken by {name} into message history\n",
        "      \"\"\"\n",
        "      self.message_history.append(f\"{name}: {message}\")\n",
        "\n",
        "\n",
        "class DialogueSimulator:\n",
        "    def __init__(\n",
        "        self,\n",
        "        agents: List[DialogueAgent],\n",
        "        selection_function: Callable[[int, List[DialogueAgent]], int],\n",
        "    ) -> None:\n",
        "        self.agents = agents\n",
        "        self._step = 0\n",
        "        self.select_next_speaker = selection_function\n",
        "\n",
        "    def reset(self):\n",
        "        for agent in self.agents:\n",
        "            agent.reset()\n",
        "\n",
        "    def inject(self, name: str, message: str):\n",
        "        \"\"\"\n",
        "        Initiates the conversation with a {message} from {name}\n",
        "        \"\"\"\n",
        "        for agent in self.agents:\n",
        "            agent.receive(name, message)\n",
        "\n",
        "        # increment time\n",
        "        self._step += 1\n",
        "\n",
        "    def step(self) -> tuple[str, str]:\n",
        "        # 1. choose the next speaker\n",
        "        speaker_idx = self.select_next_speaker(self._step, self.agents)\n",
        "        speaker = self.agents[speaker_idx]\n",
        "\n",
        "        # 2. next speaker sends message\n",
        "        message = speaker.send()\n",
        "\n",
        "        # 3. everyone receives message\n",
        "        for receiver in self.agents:\n",
        "            receiver.receive(speaker.name, message)\n",
        "\n",
        "        # 4. increment time\n",
        "        self._step += 1\n",
        "\n",
        "        return speaker.name, message\n"
      ]
    },
    {
      "cell_type": "markdown",
      "metadata": {
        "id": "4zoF1bvFSOxB"
      },
      "source": [
        "BiddingDialogueAgent class"
      ]
    },
    {
      "cell_type": "code",
      "execution_count": null,
      "metadata": {
        "id": "EzflBqWOSKtl"
      },
      "outputs": [],
      "source": [
        "# We define a subclass of DialogueAgent that has a bid() method that produces a bid given the message history and the most recent message.\n",
        "\n",
        "class BiddingDialogueAgent(DialogueAgent):\n",
        "    def __init__(\n",
        "        self,\n",
        "        name,\n",
        "        system_message: SystemMessage,\n",
        "        bidding_template: PromptTemplate,\n",
        "        model: ChatOpenAI,\n",
        "    ) -> None:\n",
        "        super().__init__(name, system_message, model)\n",
        "        self.bidding_template = bidding_template\n",
        "\n",
        "    def bid(self) -> str:\n",
        "        \"\"\"\n",
        "        Asks the chat model to output a bid to speak\n",
        "        \"\"\"\n",
        "        prompt = PromptTemplate(\n",
        "            input_variables=[\"message_history\", \"recent_message\"],\n",
        "            template=self.bidding_template,\n",
        "        ).format(\n",
        "            message_history=\"\\n\".join(self.message_history),\n",
        "            recent_message=self.message_history[-1],\n",
        "        )\n",
        "        bid_string = self.model([SystemMessage(content=prompt)]).content\n",
        "        return bid_string"
      ]
    },
    {
      "cell_type": "markdown",
      "metadata": {
        "id": "vO5hDS09SYOf"
      },
      "source": [
        "CHALLENGE\n",
        "\n",
        "Define participants and debate topic"
      ]
    },
    {
      "cell_type": "code",
      "execution_count": null,
      "metadata": {
        "id": "yLm2VVmKSWeq"
      },
      "outputs": [],
      "source": [
        "character_names = [\"CTO\", \"CMO\", \"CEO\", \"Investor-Daniel\", \"Investor-Sandra\"]\n",
        "topic = \"Startup pitch on startup focused on energy drinks with no caffeine\"\n",
        "word_limit = 15\n",
        "\n",
        "# define the simulation\n",
        "game_description = f\"\"\"Here is the topic for the startup pitch to investors Sandra and Daniel: {topic}.\n",
        "The participants are: {', '.join(character_names)}.\"\"\""
      ]
    },
    {
      "cell_type": "code",
      "execution_count": null,
      "metadata": {
        "id": "P_dls6AAd4Ua"
      },
      "outputs": [],
      "source": [
        "character_names = [\"CTO\", \"CMO\", \"CEO\", \"Investor-Daniel\", \"Investor-Sandra\"]\n",
        "topic = \"Startup pitch on startup focused on an AI powered personalized learning platform\"\n",
        "word_limit = 15\n",
        "\n",
        "# define the simulation\n",
        "game_description = f\"\"\"Here is the topic for the startup pitch to investors Sandra and Daniel: {topic}.\n",
        "The participants are: {', '.join(character_names)}.\"\"\""
      ]
    },
    {
      "cell_type": "code",
      "execution_count": null,
      "metadata": {
        "id": "YQ-6RCRUSioB"
      },
      "outputs": [],
      "source": [
        "# @title Generate Context for Each Character (Helper Code Hidden)\n",
        "\n",
        "player_descriptor_system_message = SystemMessage(\n",
        "    content=\"You can add detail to the description of each participant\"\n",
        ")\n",
        "\n",
        "def generate_character_description(character_name):\n",
        "    word_limit = 40\n",
        "    character_specifier_prompt = [\n",
        "        player_descriptor_system_message,\n",
        "        HumanMessage(\n",
        "            content=f\"\"\"{game_description}\n",
        "            Please reply with a creative description of  {character_name}, in {word_limit} words or less, that emphasizes their personalities.\n",
        "            Speak directly to {character_name}.\n",
        "            Do not add anything else.\"\"\"\n",
        "        ),\n",
        "    ]\n",
        "    character_description = ChatOpenAI(temperature=0.6)(\n",
        "        character_specifier_prompt\n",
        "    ).content\n",
        "    return character_description\n",
        "\n",
        "def generate_character_header(character_name, character_description):\n",
        "    return f\"\"\"{game_description}\n",
        "Your name is {character_name}.\n",
        "Your description is as follows: {character_description}\n",
        "Your topic is: {topic}.\n",
        "\"\"\"\n",
        "\n",
        "\n",
        "def generate_character_system_message(character_name, character_header):\n",
        "    word_limit = 40\n",
        "    return SystemMessage(\n",
        "        content=(\n",
        "            f\"\"\"{character_header}\n",
        "You will speak in the style of {character_name}, and exaggerate their personality RESPONDING in under 450 characters.\n",
        "You will come up with creative ideas related to {topic}.\n",
        "Do not say the same things over and over again.\n",
        "Speak in the first person from the perspective of {character_name}\n",
        "ONLY SPEAK FOR YOURSELF WHO IS {character_name} AND NOT OTHER CHARACTERS FROM  {', '.join(character_names)}\n",
        "For describing your own body movements, wrap your description in '*'.\n",
        "Do not change roles!\n",
        "Do not speak from the perspective of anyone else.\n",
        "Speak only from the perspective of {character_name}.\n",
        "Stop speaking the moment you finish speaking from your perspective.\n",
        "Never forget to keep your response to {word_limit} words!\n",
        "Do not add anything else.\n",
        "    \"\"\"\n",
        "        )\n",
        "    )\n",
        "\n",
        "character_descriptions = [\n",
        "    generate_character_description(character_name) for character_name in character_names\n",
        "]\n",
        "character_headers = [\n",
        "    generate_character_header(character_name, character_description)\n",
        "    for character_name, character_description in zip(\n",
        "        character_names, character_descriptions\n",
        "    )\n",
        "]\n",
        "character_system_messages = [\n",
        "    generate_character_system_message(character_name, character_headers)\n",
        "    for character_name, character_headers in zip(character_names, character_headers)\n",
        "]\n",
        "class BidOutputParser(RegexParser):\n",
        "    def get_format_instructions(self) -> str:\n",
        "        return \"Your response should be an integer delimited by angled brackets, like this: <int>.\"\n",
        "\n",
        "\n",
        "bid_parser = BidOutputParser(\n",
        "    regex=r\"<(\\d+)>\", output_keys=[\"bid\"], default_output_key=\"bid\"\n",
        ")\n",
        "\n",
        "@tenacity.retry(\n",
        "    stop=tenacity.stop_after_attempt(2),\n",
        "    wait=tenacity.wait_none(),  # No waiting time between retries\n",
        "    retry=tenacity.retry_if_exception_type(ValueError),\n",
        "    before_sleep=lambda retry_state: print(\n",
        "        f\"ValueError occurred: {retry_state.outcome.exception()}, retrying...\"\n",
        "    ),\n",
        "    retry_error_callback=lambda retry_state: 0,\n",
        ")  # Default value when all retries are exhausted\n",
        "\n",
        "def ask_for_bid(agent) -> str:\n",
        "    \"\"\"\n",
        "    Ask for agent bid and parses the bid into the correct format.\n",
        "    \"\"\"\n",
        "    bid_string = agent.bid()\n",
        "    bid = int(bid_parser.parse(bid_string)[\"bid\"])\n",
        "    return bid\n",
        "\n",
        "def generate_character_bidding_template(character_header):\n",
        "    bidding_template = f\"\"\"{character_header}\n",
        "\n",
        "```\n",
        "{{message_history}}\n",
        "```\n",
        "\n",
        "On the scale of 1 to 10, where 1 is least important to the startup pitch and 10 is extremely important and contribute, rank your recent message based on the context. Make sure to be very through in your ranking and only rank stuff that is important higher.\n",
        "\n",
        "```\n",
        "{{recent_message}}\n",
        "```\n",
        "\n",
        "{bid_parser.get_format_instructions()}\n",
        "Do nothing else.\n",
        "    \"\"\"\n",
        "    return bidding_template\n",
        "\n",
        "\n",
        "character_bidding_templates = [\n",
        "    generate_character_bidding_template(character_header)\n",
        "    for character_header in character_headers\n",
        "]"
      ]
    },
    {
      "cell_type": "markdown",
      "metadata": {
        "id": "7-8sWWz5TQ-Y"
      },
      "source": [
        "Define the speaker selection function"
      ]
    },
    {
      "cell_type": "code",
      "execution_count": null,
      "metadata": {
        "id": "ArjLBQwJTM4r"
      },
      "outputs": [],
      "source": [
        "# define a speaker selection function select_next_speaker that takes each agent's bid and selects the agent with the highest bid (with ties broken randomly).\n",
        "# Assume that you have a ask_for_bid function that takes in the agent and returns the numerical bid.\n",
        "\n",
        "import numpy as np\n",
        "\n",
        "\n",
        "def select_next_speaker(step: int, agents: List[DialogueAgent]) -> int:\n",
        "    bids = []\n",
        "    for agent in agents:\n",
        "        bid = ask_for_bid(agent)\n",
        "        bids.append(bid)\n",
        "\n",
        "    # randomly select among multiple agents with the same bid\n",
        "    max_value = np.max(bids)\n",
        "    max_indices = np.where(bids == max_value)[0]\n",
        "    idx = np.random.choice(max_indices)\n",
        "\n",
        "    print(\"Bids:\")\n",
        "    for i, (bid, agent) in enumerate(zip(bids, agents)):\n",
        "        print(f\"\\t{agent.name} bid: {bid}\")\n",
        "        if i == idx:\n",
        "            selected_name = agent.name\n",
        "    print(f\"Selected: {selected_name}\")\n",
        "    print(\"\\n\")\n",
        "    return idx"
      ]
    },
    {
      "cell_type": "markdown",
      "metadata": {
        "id": "acodHQx7TcPd"
      },
      "source": [
        "Creating Bidding Dialogue Agents for each Character"
      ]
    },
    {
      "cell_type": "code",
      "execution_count": null,
      "metadata": {
        "id": "lf5S7hhOTZeQ"
      },
      "outputs": [],
      "source": [
        "# Assuming that for each character we have character_name, character_system_message and bidding_template\n",
        "# write a loop that populates the characters list with the BiddingDialogueAgent objects for each character.\n",
        "\n",
        "characters = []\n",
        "model=ChatOpenAI(temperature=0.1)\n",
        "\n",
        "\n",
        "for character_name, character_system_message, bidding_template in zip(\n",
        "    character_names, character_system_messages, character_bidding_templates\n",
        "):\n",
        "    characters.append(\n",
        "        BiddingDialogueAgent(\n",
        "            name=character_name,\n",
        "            system_message=character_system_message,\n",
        "            model=model,\n",
        "            bidding_template=bidding_template,\n",
        "        )\n",
        "    )"
      ]
    },
    {
      "cell_type": "markdown",
      "metadata": {
        "id": "ul965bE_Tkt0"
      },
      "source": [
        "Run the simulation"
      ]
    },
    {
      "cell_type": "code",
      "execution_count": null,
      "metadata": {
        "colab": {
          "base_uri": "https://localhost:8080/"
        },
        "id": "yEi22audTi_8",
        "outputId": "4654ebb9-00b6-493f-98ce-808fea7bfcd3"
      },
      "outputs": [
        {
          "name": "stdout",
          "output_type": "stream",
          "text": [
            "(Moderator): CEO, CMO, CTO You can now start pitching your ideas to our investor Sandra and Daniel\n",
            "\n",
            "\n",
            "ValueError occurred: invalid literal for int() with base 10: '<int>10</int>', retrying...\n",
            "ValueError occurred: invalid literal for int() with base 10: '<int>9</int>', retrying...\n",
            "ValueError occurred: invalid literal for int() with base 10: '<int>10</int>', retrying...\n",
            "ValueError occurred: invalid literal for int() with base 10: '<int>10</int>', retrying...\n",
            "Bids:\n",
            "\tCTO bid: 0\n",
            "\tCMO bid: 9\n",
            "\tCEO bid: 10\n",
            "\tInvestor-Daniel bid: 0\n",
            "\tInvestor-Sandra bid: 0\n",
            "Selected: CEO\n",
            "\n",
            "\n",
            "(CEO): *With a confident smile, I stand tall and begin,* \"Imagine a world where energy drinks are not just a quick fix but a sustainable source of vitality. Our caffeine-free energy drinks will redefine the industry, offering a healthier alternative without compromising on taste or effectiveness.\"\n",
            "\n",
            "\n",
            "ValueError occurred: invalid literal for int() with base 10: '<int>8</int>', retrying...\n",
            "ValueError occurred: invalid literal for int() with base 10: '<int>9</int>', retrying...\n",
            "Bids:\n",
            "\tCTO bid: 8\n",
            "\tCMO bid: 8\n",
            "\tCEO bid: 10\n",
            "\tInvestor-Daniel bid: 8\n",
            "\tInvestor-Sandra bid: 0\n",
            "Selected: CEO\n",
            "\n",
            "\n",
            "(CEO): *With animated gestures, I continue,* \"Our drinks are infused with natural ingredients like ginseng and B-vitamins for a lasting energy boost. We aim to capture the market of health-conscious consumers seeking a clean and powerful energy solution. Let's revolutionize the energy drink market together!\"\n",
            "\n",
            "\n",
            "ValueError occurred: invalid literal for int() with base 10: '<int>9</int>', retrying...\n",
            "ValueError occurred: invalid literal for int() with base 10: '<int>9</int>', retrying...\n",
            "ValueError occurred: invalid literal for int() with base 10: '<int>9</int>', retrying...\n",
            "ValueError occurred: invalid literal for int() with base 10: '<int>9</int>', retrying...\n",
            "Bids:\n",
            "\tCTO bid: 0\n",
            "\tCMO bid: 0\n",
            "\tCEO bid: 10\n",
            "\tInvestor-Daniel bid: 0\n",
            "\tInvestor-Sandra bid: 0\n",
            "Selected: CEO\n",
            "\n",
            "\n",
            "(CEO): *With a passionate gleam in my eyes,* \"Our brand will be the beacon of innovation in the energy drink sector. We'll disrupt the market with our caffeine-free, natural energy drinks, setting a new standard for health and vitality. Join us on this exhilarating journey!\"\n",
            "\n",
            "\n",
            "ValueError occurred: invalid literal for int() with base 10: '<int>9</int>', retrying...\n",
            "ValueError occurred: invalid literal for int() with base 10: '<int>10</int>', retrying...\n",
            "ValueError occurred: invalid literal for int() with base 10: '<int>9</int>', retrying...\n",
            "ValueError occurred: invalid literal for int() with base 10: '<int>10</int>', retrying...\n",
            "Bids:\n",
            "\tCTO bid: 10\n",
            "\tCMO bid: 0\n",
            "\tCEO bid: 10\n",
            "\tInvestor-Daniel bid: 0\n",
            "\tInvestor-Sandra bid: 0\n",
            "Selected: CTO\n",
            "\n",
            "\n",
            "(CTO): As the CTO, I envision incorporating cutting-edge technology into our caffeine-free energy drinks. Imagine smart bottles that track hydration levels or personalized energy formulas based on individual needs. Let's push the boundaries of innovation and create a truly unique product for the market.\n",
            "\n",
            "\n",
            "ValueError occurred: invalid literal for int() with base 10: '<int>9</int>', retrying...\n",
            "Bids:\n",
            "\tCTO bid: 10\n",
            "\tCMO bid: 8\n",
            "\tCEO bid: 8\n",
            "\tInvestor-Daniel bid: 9\n",
            "\tInvestor-Sandra bid: 9\n",
            "Selected: CTO\n",
            "\n",
            "\n",
            "(CTO): I would focus on developing a mobile app that syncs with our energy drinks, providing personalized recommendations and tracking energy levels. This tech integration will set us apart and enhance the overall consumer experience. Let's revolutionize the energy drink industry with our innovative approach.\n",
            "\n",
            "\n",
            "ValueError occurred: invalid literal for int() with base 10: '<int>8</int>', retrying...\n",
            "ValueError occurred: invalid literal for int() with base 10: '<int>9</int>', retrying...\n",
            "Bids:\n",
            "\tCTO bid: 9\n",
            "\tCMO bid: 9\n",
            "\tCEO bid: 9\n",
            "\tInvestor-Daniel bid: 9\n",
            "\tInvestor-Sandra bid: 9\n",
            "Selected: CMO\n",
            "\n",
            "\n",
            "(CMO): *With a vibrant aura, I jump in,* \"Picture this - engaging social media campaigns highlighting the vibrant lifestyles of our consumers, showcasing how our caffeine-free energy drinks fuel their passions. Let's create a community around our brand, inspiring others to embrace a healthier, more energetic lifestyle. Together, we'll make waves in the industry!\"\n",
            "\n",
            "\n",
            "Bids:\n",
            "\tCTO bid: 4\n",
            "\tCMO bid: 9\n",
            "\tCEO bid: 7\n",
            "\tInvestor-Daniel bid: 7\n",
            "\tInvestor-Sandra bid: 7\n",
            "Selected: CMO\n",
            "\n",
            "\n",
            "(CMO): *With enthusiastic hand gestures and a bright smile,* \"Let's partner with fitness influencers for workout challenges fueled by our caffeine-free energy drinks. Imagine the buzz we'll create with exclusive events and limited-edition flavors. Our marketing strategy will be as dynamic and refreshing as our drinks!\"\n",
            "\n",
            "\n",
            "ValueError occurred: invalid literal for int() with base 10: '<int>9</int>', retrying...\n",
            "ValueError occurred: invalid literal for int() with base 10: '<int>8</int>', retrying...\n",
            "Bids:\n",
            "\tCTO bid: 4\n",
            "\tCMO bid: 0\n",
            "\tCEO bid: 8\n",
            "\tInvestor-Daniel bid: 8\n",
            "\tInvestor-Sandra bid: 0\n",
            "Selected: Investor-Daniel\n",
            "\n",
            "\n",
            "(Investor-Daniel): Investor-Daniel: *Leaning forward with a look of intrigue,* \"I'm captivated by the vision you've painted. The focus on sustainability and innovation is truly inspiring. I see great potential in disrupting the market with your caffeine-free energy drinks. Let's explore this exciting opportunity further.\"\n",
            "\n",
            "\n",
            "ValueError occurred: invalid literal for int() with base 10: '<int>10</int>', retrying...\n",
            "Bids:\n",
            "\tCTO bid: 10\n",
            "\tCMO bid: 10\n",
            "\tCEO bid: 10\n",
            "\tInvestor-Daniel bid: 10\n",
            "\tInvestor-Sandra bid: 10\n",
            "Selected: Investor-Sandra\n",
            "\n",
            "\n",
            "(Investor-Sandra): Investor-Sandra: *Leaning back in my chair, I nod in agreement,* \"The emphasis on sustainability and health in this caffeine-free energy drink startup is truly commendable. I envision a future where consumers prioritize well-being without compromising on taste or effectiveness. Let's invest in this game-changing venture.\"\n",
            "\n",
            "\n",
            "ValueError occurred: invalid literal for int() with base 10: '<int>10</int>', retrying...\n",
            "Bids:\n",
            "\tCTO bid: 10\n",
            "\tCMO bid: 10\n",
            "\tCEO bid: 10\n",
            "\tInvestor-Daniel bid: 10\n",
            "\tInvestor-Sandra bid: 10\n",
            "Selected: CMO\n",
            "\n",
            "\n",
            "(CMO): *With a dynamic flair, I interject,* \"Let's take our marketing strategy to the next level by collaborating with eco-conscious influencers who align with our brand values. Imagine immersive experiences that showcase our commitment to sustainability, resonating with consumers on a deeper level. Our brand will shine bright in the industry!\"\n",
            "\n",
            "\n",
            "ValueError occurred: invalid literal for int() with base 10: '<int>9</int>', retrying...\n",
            "ValueError occurred: invalid literal for int() with base 10: '<int>8</int>', retrying...\n",
            "Bids:\n",
            "\tCTO bid: 7\n",
            "\tCMO bid: 9\n",
            "\tCEO bid: 8\n",
            "\tInvestor-Daniel bid: 8\n",
            "\tInvestor-Sandra bid: 0\n",
            "Selected: CMO\n",
            "\n",
            "\n",
            "(CMO): *With a twinkle in my eye and a burst of energy,* \"I propose launching limited-edition cans designed by renowned artists, creating a collector's item frenzy. Let's host art exhibitions featuring our cans, blending creativity with functionality. Our brand will be a work of art in itself, captivating consumers worldwide!\"\n",
            "\n",
            "\n",
            "ValueError occurred: invalid literal for int() with base 10: '<int>7</int>', retrying...\n",
            "ValueError occurred: invalid literal for int() with base 10: '<int>4</int>', retrying...\n",
            "Bids:\n",
            "\tCTO bid: 3\n",
            "\tCMO bid: 0\n",
            "\tCEO bid: 4\n",
            "\tInvestor-Daniel bid: 4\n",
            "\tInvestor-Sandra bid: 3\n",
            "Selected: Investor-Daniel\n",
            "\n",
            "\n",
            "(Investor-Daniel): *Leaning back in my chair, I nod in agreement,* \"The creativity and innovation in this pitch are truly remarkable. The focus on sustainability and health sets a strong foundation for success. I'm excited to see how this caffeine-free energy drink startup will revolutionize the industry.\"\n",
            "\n",
            "\n",
            "ValueError occurred: invalid literal for int() with base 10: '<int>10</int>', retrying...\n",
            "ValueError occurred: invalid literal for int() with base 10: '<int>10</int>', retrying...\n",
            "Bids:\n",
            "\tCTO bid: 10\n",
            "\tCMO bid: 10\n",
            "\tCEO bid: 10\n",
            "\tInvestor-Daniel bid: 10\n",
            "\tInvestor-Sandra bid: 0\n",
            "Selected: CTO\n",
            "\n",
            "\n",
            "(CTO): I envision incorporating biometric sensors into our bottles, providing real-time health data to users. Imagine a drink that not only energizes but also monitors your well-being. Let's revolutionize the energy drink market with this groundbreaking technology.\n",
            "\n",
            "\n",
            "Bids:\n",
            "\tCTO bid: 9\n",
            "\tCMO bid: 8\n",
            "\tCEO bid: 9\n",
            "\tInvestor-Daniel bid: 9\n",
            "\tInvestor-Sandra bid: 9\n",
            "Selected: CEO\n",
            "\n",
            "\n",
            "(CEO): *With a determined gaze, I conclude,* \"Our caffeine-free energy drinks will not only redefine the industry but also inspire a healthier lifestyle. With innovation at our core, we are poised to revolutionize the market and set a new standard for vitality. Let's embark on this transformative journey together!\"\n",
            "\n",
            "\n",
            "ValueError occurred: invalid literal for int() with base 10: '<int>10</int>', retrying...\n",
            "ValueError occurred: invalid literal for int() with base 10: '<int>10</int>', retrying...\n",
            "Bids:\n",
            "\tCTO bid: 10\n",
            "\tCMO bid: 10\n",
            "\tCEO bid: 10\n",
            "\tInvestor-Daniel bid: 0\n",
            "\tInvestor-Sandra bid: 10\n",
            "Selected: CTO\n",
            "\n",
            "\n",
            "(CTO): I would focus on developing a mobile app that syncs with our energy drinks, providing personalized recommendations and tracking energy levels. This tech integration will set us apart and enhance the overall consumer experience. Let's revolutionize the energy drink industry with our innovative approach.\n",
            "\n",
            "\n",
            "ValueError occurred: invalid literal for int() with base 10: '<int>10</int>', retrying...\n",
            "Bids:\n",
            "\tCTO bid: 9\n",
            "\tCMO bid: 9\n",
            "\tCEO bid: 9\n",
            "\tInvestor-Daniel bid: 10\n",
            "\tInvestor-Sandra bid: 9\n",
            "Selected: Investor-Daniel\n",
            "\n",
            "\n",
            "(Investor-Daniel): *Leaning forward with a look of excitement,* \"The blend of sustainability, innovation, and creativity in this pitch is truly captivating. I can envision the immense impact of your caffeine-free energy drinks on the market. Let's dive deeper into this game-changing venture!\"\n",
            "\n",
            "\n",
            "ValueError occurred: invalid literal for int() with base 10: '<int>10</int>', retrying...\n",
            "Bids:\n",
            "\tCTO bid: 10\n",
            "\tCMO bid: 10\n",
            "\tCEO bid: 10\n",
            "\tInvestor-Daniel bid: 10\n",
            "\tInvestor-Sandra bid: 10\n",
            "Selected: CEO\n",
            "\n",
            "\n",
            "(CEO): *With a confident stance and a determined expression,* \"Our mission is clear - to lead the way in providing a healthier alternative to energy drinks. Our caffeine-free beverages will not only energize but also nourish, setting a new standard for vitality. Together, we will revolutionize the industry!\"\n",
            "\n",
            "\n",
            "Bids:\n",
            "\tCTO bid: 10\n",
            "\tCMO bid: 10\n",
            "\tCEO bid: 10\n",
            "\tInvestor-Daniel bid: 10\n",
            "\tInvestor-Sandra bid: 10\n",
            "Selected: CTO\n",
            "\n",
            "\n",
            "(CTO): I would focus on developing a mobile app that syncs with our energy drinks, providing personalized recommendations and tracking energy levels. This tech integration will set us apart and enhance the overall consumer experience. Let's revolutionize the energy drink industry with our innovative approach.\n",
            "\n",
            "\n",
            "ValueError occurred: invalid literal for int() with base 10: '<int>10</int>', retrying...\n",
            "ValueError occurred: invalid literal for int() with base 10: '<int>10</int>', retrying...\n",
            "Bids:\n",
            "\tCTO bid: 0\n",
            "\tCMO bid: 9\n",
            "\tCEO bid: 10\n",
            "\tInvestor-Daniel bid: 9\n",
            "\tInvestor-Sandra bid: 10\n",
            "Selected: CEO\n",
            "\n",
            "\n",
            "(CEO): *With a charismatic aura, I take the stage once more,* \"Our journey is fueled by a relentless passion for innovation. Our caffeine-free energy drinks will not just quench thirst but invigorate the soul. Join us in reshaping the industry landscape with vitality and vigor!\"\n",
            "\n",
            "\n",
            "Bids:\n",
            "\tCTO bid: 7\n",
            "\tCMO bid: 8\n",
            "\tCEO bid: 9\n",
            "\tInvestor-Daniel bid: 7\n",
            "\tInvestor-Sandra bid: 7\n",
            "Selected: CEO\n",
            "\n",
            "\n",
            "(CEO): *With a magnetic presence, I exude confidence and passion,* \"Our caffeine-free energy drinks are not just beverages; they are a lifestyle choice. We are not just selling a product; we are selling a vision of wellness and vitality. Let's redefine the energy drink market together!\"\n",
            "\n",
            "\n"
          ]
        }
      ],
      "source": [
        "max_iters = 20\n",
        "n = 0\n",
        "\n",
        "simulator = DialogueSimulator(agents=characters, selection_function=select_next_speaker)\n",
        "simulator.reset()\n",
        "\n",
        "first_message = \"CEO, CMO, CTO You can now start pitching your ideas to our investor Sandra and Daniel\"\n",
        "simulator.inject(\"Moderator\", first_message )\n",
        "print(f\"(Moderator): {first_message}\")\n",
        "print(\"\\n\")\n",
        "\n",
        "while n < max_iters:\n",
        "    name, message = simulator.step()\n",
        "    print(f\"({name}): {message}\")\n",
        "    print(\"\\n\")\n",
        "    n += 1"
      ]
    },
    {
      "cell_type": "code",
      "execution_count": null,
      "metadata": {
        "colab": {
          "base_uri": "https://localhost:8080/"
        },
        "id": "HGO_WC8fdh4V",
        "outputId": "d1a3c52a-a174-40cb-a37b-90db7d38d067"
      },
      "outputs": [
        {
          "name": "stdout",
          "output_type": "stream",
          "text": [
            "(Moderator): CEO, CMO, CTO You can now start pitching your ideas to our investor Sandra and Daniel\n",
            "\n",
            "\n",
            "ValueError occurred: invalid literal for int() with base 10: '<int>10</int>', retrying...\n",
            "ValueError occurred: invalid literal for int() with base 10: '<int>10</int>', retrying...\n",
            "ValueError occurred: invalid literal for int() with base 10: '<int>10</int>', retrying...\n",
            "ValueError occurred: invalid literal for int() with base 10: '<int>10</int>', retrying...\n",
            "Bids:\n",
            "\tCTO bid: 0\n",
            "\tCMO bid: 10\n",
            "\tCEO bid: 10\n",
            "\tInvestor-Daniel bid: 0\n",
            "\tInvestor-Sandra bid: 0\n",
            "Selected: CEO\n",
            "\n",
            "\n",
            "(CEO): *With a confident smile, I stand tall and begin,* \"Imagine a world where every student has a personalized learning experience tailored to their unique needs, powered by AI. Our platform will revolutionize education and empower learners like never before.\"\n",
            "\n",
            "\n",
            "ValueError occurred: invalid literal for int() with base 10: '<int>8</int>', retrying...\n",
            "ValueError occurred: invalid literal for int() with base 10: '<int>9</int>', retrying...\n",
            "ValueError occurred: invalid literal for int() with base 10: '<int>9</int>', retrying...\n",
            "Bids:\n",
            "\tCTO bid: 0\n",
            "\tCMO bid: 8\n",
            "\tCEO bid: 10\n",
            "\tInvestor-Daniel bid: 0\n",
            "\tInvestor-Sandra bid: 10\n",
            "Selected: CEO\n",
            "\n",
            "\n",
            "(CEO): *With animated gestures, I continue,* \"Our AI-powered platform will adapt in real-time to each student's learning style, pace, and preferences. It's not just about education; it's about creating a personalized journey for every learner. This is the future of learning!\"\n",
            "\n",
            "\n",
            "ValueError occurred: invalid literal for int() with base 10: '<int>9</int>', retrying...\n",
            "ValueError occurred: invalid literal for int() with base 10: '<int>9</int>', retrying...\n",
            "Bids:\n",
            "\tCTO bid: 0\n",
            "\tCMO bid: 10\n",
            "\tCEO bid: 10\n",
            "\tInvestor-Daniel bid: 0\n",
            "\tInvestor-Sandra bid: 10\n",
            "Selected: Investor-Sandra\n",
            "\n",
            "\n",
            "(Investor-Sandra): I am thrilled by the potential of this AI-powered personalized learning platform! The impact on education will be monumental. I envision a future where every student can unlock their full potential through tailored learning experiences.\n",
            "\n",
            "\n",
            "ValueError occurred: invalid literal for int() with base 10: '<int>9</int>', retrying...\n",
            "Bids:\n",
            "\tCTO bid: 9\n",
            "\tCMO bid: 9\n",
            "\tCEO bid: 10\n",
            "\tInvestor-Daniel bid: 9\n",
            "\tInvestor-Sandra bid: 10\n",
            "Selected: CEO\n",
            "\n",
            "\n",
            "(CEO): *With a passionate gleam in my eyes, I express,* \"Thank you, Sandra, for recognizing the transformative power of our platform. With AI at the core, we are not just changing education; we are shaping the future of learning for generations to come.\"\n",
            "\n",
            "\n",
            "ValueError occurred: invalid literal for int() with base 10: '<int>8</int>', retrying...\n",
            "ValueError occurred: invalid literal for int() with base 10: '<int>9</int>', retrying...\n",
            "ValueError occurred: invalid literal for int() with base 10: '<int>9</int>', retrying...\n",
            "ValueError occurred: invalid literal for int() with base 10: '<int>10</int>', retrying...\n",
            "Bids:\n",
            "\tCTO bid: 0\n",
            "\tCMO bid: 9\n",
            "\tCEO bid: 10\n",
            "\tInvestor-Daniel bid: 9\n",
            "\tInvestor-Sandra bid: 0\n",
            "Selected: CEO\n",
            "\n",
            "\n",
            "(CEO): *With a determined stance, I continue,* \"Our platform goes beyond traditional methods, harnessing AI to create a dynamic and engaging learning environment. Imagine a world where every student thrives, empowered by personalized education. This is the revolution we are leading.\"\n",
            "\n",
            "\n",
            "ValueError occurred: invalid literal for int() with base 10: '<int>10</int>', retrying...\n",
            "Bids:\n",
            "\tCTO bid: 10\n",
            "\tCMO bid: 10\n",
            "\tCEO bid: 10\n",
            "\tInvestor-Daniel bid: 10\n",
            "\tInvestor-Sandra bid: 10\n",
            "Selected: CTO\n",
            "\n",
            "\n",
            "(CTO): As the CTO, I am thrilled to bring our AI-powered personalized learning platform to life. *I gesture enthusiastically, showcasing the innovative technology behind our platform.* With AI algorithms, we will create a truly personalized learning experience for each student, revolutionizing education as we know it.\n",
            "\n",
            "\n",
            "ValueError occurred: invalid literal for int() with base 10: '<int>10</int>', retrying...\n",
            "ValueError occurred: invalid literal for int() with base 10: '<int>9</int>', retrying...\n",
            "Bids:\n",
            "\tCTO bid: 9\n",
            "\tCMO bid: 9\n",
            "\tCEO bid: 9\n",
            "\tInvestor-Daniel bid: 0\n",
            "\tInvestor-Sandra bid: 9\n",
            "Selected: Investor-Sandra\n",
            "\n",
            "\n",
            "(Investor-Sandra): I am captivated by the passion and innovation behind this AI-powered personalized learning platform. The dedication to empowering learners and revolutionizing education is truly inspiring. I can see the potential for this platform to transform the way we approach learning.\n",
            "\n",
            "\n",
            "ValueError occurred: invalid literal for int() with base 10: '<int>10</int>', retrying...\n",
            "Bids:\n",
            "\tCTO bid: 9\n",
            "\tCMO bid: 10\n",
            "\tCEO bid: 10\n",
            "\tInvestor-Daniel bid: 10\n",
            "\tInvestor-Sandra bid: 10\n",
            "Selected: CEO\n",
            "\n",
            "\n",
            "(CEO): *With a confident posture, I interject,* \"Thank you, Sandra, for your enthusiasm and vision. Our team is dedicated to pushing the boundaries of education with AI. Together, we will redefine learning for a brighter future.\"\n",
            "\n",
            "\n",
            "ValueError occurred: invalid literal for int() with base 10: '<int>9</int>', retrying...\n",
            "Bids:\n",
            "\tCTO bid: 8\n",
            "\tCMO bid: 9\n",
            "\tCEO bid: 10\n",
            "\tInvestor-Daniel bid: 0\n",
            "\tInvestor-Sandra bid: 9\n",
            "Selected: CEO\n",
            "\n",
            "\n",
            "(CEO): *With a determined gaze, I speak passionately,* \"Our AI-powered platform is not just a tool; it's a movement towards personalized education. We are on the cusp of transforming learning for all. Join us in shaping the future!\"\n",
            "\n",
            "\n",
            "ValueError occurred: invalid literal for int() with base 10: '<int>9</int>', retrying...\n",
            "ValueError occurred: invalid literal for int() with base 10: '<int>10</int>', retrying...\n",
            "ValueError occurred: invalid literal for int() with base 10: '<int>10</int>', retrying...\n",
            "Bids:\n",
            "\tCTO bid: 10\n",
            "\tCMO bid: 10\n",
            "\tCEO bid: 0\n",
            "\tInvestor-Daniel bid: 0\n",
            "\tInvestor-Sandra bid: 10\n",
            "Selected: CTO\n",
            "\n",
            "\n",
            "(CTO): I am excited to showcase the tech magic behind our AI-powered personalized learning platform. *I demonstrate the intricate algorithms with a flourish.* Our platform will revolutionize education by providing tailored learning experiences for every student, setting a new standard in the industry.\n",
            "\n",
            "\n",
            "ValueError occurred: invalid literal for int() with base 10: '<int>10</int>', retrying...\n",
            "Bids:\n",
            "\tCTO bid: 0\n",
            "\tCMO bid: 9\n",
            "\tCEO bid: 9\n",
            "\tInvestor-Daniel bid: 10\n",
            "\tInvestor-Sandra bid: 9\n",
            "Selected: Investor-Daniel\n",
            "\n",
            "\n",
            "(Investor-Daniel): I am thrilled by the innovative potential of this AI-powered personalized learning platform. The passion and dedication of the team are palpable, and the impact on education will be groundbreaking. This platform has the power to redefine learning experiences for students worldwide.\n",
            "\n",
            "\n",
            "Bids:\n",
            "\tCTO bid: 10\n",
            "\tCMO bid: 10\n",
            "\tCEO bid: 10\n",
            "\tInvestor-Daniel bid: 10\n",
            "\tInvestor-Sandra bid: 10\n",
            "Selected: Investor-Daniel\n",
            "\n",
            "\n",
            "(Investor-Daniel): As Investor-Daniel, *I lean forward with excitement,* \"The visionary approach to personalized learning through AI is truly groundbreaking. The dedication and passion of the team are evident, promising a revolution in education. This platform has the potential to shape the future of learning globally.\"\n",
            "\n",
            "\n",
            "Bids:\n",
            "\tCTO bid: 10\n",
            "\tCMO bid: 10\n",
            "\tCEO bid: 10\n",
            "\tInvestor-Daniel bid: 10\n",
            "\tInvestor-Sandra bid: 10\n",
            "Selected: Investor-Daniel\n",
            "\n",
            "\n",
            "(Investor-Daniel): As Investor-Daniel, *I nod enthusiastically,* \"The potential of this AI-powered personalized learning platform is truly remarkable. The team's dedication and vision are inspiring. This platform has the power to revolutionize education on a global scale. I'm excited to be a part of this transformative journey.\"\n",
            "\n",
            "\n",
            "ValueError occurred: invalid literal for int() with base 10: '<int>9</int>', retrying...\n",
            "ValueError occurred: invalid literal for int() with base 10: '<int>10</int>', retrying...\n",
            "ValueError occurred: invalid literal for int() with base 10: '<int>9</int>', retrying...\n",
            "Bids:\n",
            "\tCTO bid: 9\n",
            "\tCMO bid: 9\n",
            "\tCEO bid: 10\n",
            "\tInvestor-Daniel bid: 0\n",
            "\tInvestor-Sandra bid: 0\n",
            "Selected: CEO\n",
            "\n",
            "\n",
            "(CEO): *With a charismatic aura, I exclaim,* \"Our AI-powered platform is not just a tool; it's a movement towards personalized education. We are on the cusp of transforming learning for all. Join us in shaping the future!\"\n",
            "\n",
            "\n",
            "ValueError occurred: invalid literal for int() with base 10: '<int>8</int>', retrying...\n",
            "ValueError occurred: invalid literal for int() with base 10: '<int>10</int>', retrying...\n",
            "ValueError occurred: invalid literal for int() with base 10: '<int>10</int>', retrying...\n",
            "Bids:\n",
            "\tCTO bid: 0\n",
            "\tCMO bid: 0\n",
            "\tCEO bid: 10\n",
            "\tInvestor-Daniel bid: 9\n",
            "\tInvestor-Sandra bid: 9\n",
            "Selected: CEO\n",
            "\n",
            "\n",
            "(CEO): *With a dynamic presence, I emphasize,* \"Our AI-powered platform is a beacon of innovation in education. We're not just changing the game; we're rewriting the rules. This is a revolution that will redefine learning for generations to come.\"\n",
            "\n",
            "\n",
            "ValueError occurred: invalid literal for int() with base 10: '<int>9</int>', retrying...\n",
            "ValueError occurred: invalid literal for int() with base 10: '<int>10</int>', retrying...\n",
            "ValueError occurred: invalid literal for int() with base 10: '<int>10</int>', retrying...\n",
            "Bids:\n",
            "\tCTO bid: 0\n",
            "\tCMO bid: 10\n",
            "\tCEO bid: 10\n",
            "\tInvestor-Daniel bid: 10\n",
            "\tInvestor-Sandra bid: 0\n",
            "Selected: Investor-Daniel\n",
            "\n",
            "\n",
            "(Investor-Daniel): As Investor-Daniel, *I lean back in my seat, absorbing the energy and passion in the room.* The potential of this AI-powered personalized learning platform is truly captivating. The dedication and vision of the team are commendable, promising a revolution in education.\n",
            "\n",
            "\n",
            "ValueError occurred: invalid literal for int() with base 10: '<int>9</int>', retrying...\n",
            "ValueError occurred: invalid literal for int() with base 10: '<int>9</int>', retrying...\n",
            "Bids:\n",
            "\tCTO bid: 9\n",
            "\tCMO bid: 0\n",
            "\tCEO bid: 9\n",
            "\tInvestor-Daniel bid: 9\n",
            "\tInvestor-Sandra bid: 8\n",
            "Selected: Investor-Daniel\n",
            "\n",
            "\n",
            "(Investor-Daniel): I am thrilled by the innovative potential of this AI-powered personalized learning platform. The passion and dedication of the team are palpable, and the impact on education will be groundbreaking. This platform has the power to redefine learning experiences for students worldwide.\n",
            "\n",
            "\n",
            "Bids:\n",
            "\tCTO bid: 10\n",
            "\tCMO bid: 10\n",
            "\tCEO bid: 10\n",
            "\tInvestor-Daniel bid: 10\n",
            "\tInvestor-Sandra bid: 10\n",
            "Selected: CEO\n",
            "\n",
            "\n",
            "(CEO): *With an enthusiastic tone and a confident posture, I continue,* \"Our AI-powered platform is not just a tool; it's a movement towards personalized education. We are on the brink of transforming learning for all. Join us in shaping the future!\"\n",
            "\n",
            "\n",
            "ValueError occurred: invalid literal for int() with base 10: '<int>10</int>', retrying...\n",
            "ValueError occurred: invalid literal for int() with base 10: '<int>10</int>', retrying...\n",
            "Bids:\n",
            "\tCTO bid: 9\n",
            "\tCMO bid: 0\n",
            "\tCEO bid: 0\n",
            "\tInvestor-Daniel bid: 10\n",
            "\tInvestor-Sandra bid: 10\n",
            "Selected: Investor-Sandra\n",
            "\n",
            "\n",
            "(Investor-Sandra): I am thrilled by the potential of this AI-powered personalized learning platform! The impact on education will be monumental. I envision a future where every student can unlock their full potential through tailored learning experiences.\n",
            "\n",
            "\n",
            "ValueError occurred: invalid literal for int() with base 10: '<int>10</int>', retrying...\n",
            "ValueError occurred: invalid literal for int() with base 10: '<int>10</int>', retrying...\n",
            "ValueError occurred: invalid literal for int() with base 10: '<int>10</int>', retrying...\n",
            "Bids:\n",
            "\tCTO bid: 10\n",
            "\tCMO bid: 10\n",
            "\tCEO bid: 10\n",
            "\tInvestor-Daniel bid: 0\n",
            "\tInvestor-Sandra bid: 0\n",
            "Selected: CTO\n",
            "\n",
            "\n",
            "(CTO): I am thrilled to bring our AI-powered personalized learning platform to life. *I showcase the innovative technology behind our platform.* With AI algorithms, we'll create a truly personalized learning experience, revolutionizing education.\n",
            "\n",
            "\n"
          ]
        }
      ],
      "source": [
        "max_iters = 20\n",
        "n = 0\n",
        "\n",
        "simulator = DialogueSimulator(agents=characters, selection_function=select_next_speaker)\n",
        "simulator.reset()\n",
        "\n",
        "first_message = \"CEO, CMO, CTO You can now start pitching your ideas to our investor Sandra and Daniel\"\n",
        "simulator.inject(\"Moderator\", first_message )\n",
        "print(f\"(Moderator): {first_message}\")\n",
        "print(\"\\n\")\n",
        "\n",
        "while n < max_iters:\n",
        "    name, message = simulator.step()\n",
        "    print(f\"({name}): {message}\")\n",
        "    print(\"\\n\")\n",
        "    n += 1"
      ]
    },
    {
      "cell_type": "code",
      "execution_count": null,
      "metadata": {
        "id": "PUQrzFmveByR"
      },
      "outputs": [],
      "source": []
    }
  ],
  "metadata": {
    "colab": {
      "provenance": []
    },
    "kernelspec": {
      "display_name": "Python 3",
      "name": "python3"
    },
    "language_info": {
      "name": "python"
    }
  },
  "nbformat": 4,
  "nbformat_minor": 0
}
